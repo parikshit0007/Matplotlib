{
 "cells": [
  {
   "cell_type": "markdown",
   "id": "81848e96",
   "metadata": {},
   "source": [
    "###  Numpy array"
   ]
  },
  {
   "cell_type": "code",
   "execution_count": 1,
   "id": "9284ef15",
   "metadata": {},
   "outputs": [],
   "source": [
    "import numpy as np"
   ]
  },
  {
   "cell_type": "code",
   "execution_count": 14,
   "id": "f350d973",
   "metadata": {},
   "outputs": [],
   "source": [
    "### Data types of numpy array is same throughout the array"
   ]
  },
  {
   "cell_type": "code",
   "execution_count": 8,
   "id": "35530acb",
   "metadata": {},
   "outputs": [
    {
     "name": "stdout",
     "output_type": "stream",
     "text": [
      "[2.  4.  5.  4.3 3. ]\n",
      "float64\n"
     ]
    }
   ],
   "source": [
    "import numpy as np\n",
    "a1= np.array([2,4,5,4.3,3])\n",
    "print(a1)\n",
    "print(a1.dtype)\n"
   ]
  },
  {
   "cell_type": "code",
   "execution_count": 10,
   "id": "a2809bae",
   "metadata": {},
   "outputs": [
    {
     "name": "stdout",
     "output_type": "stream",
     "text": [
      "['harry' '34' '5.3' '5']\n",
      "<U32\n"
     ]
    }
   ],
   "source": [
    "a2 = np.array([\"harry\",34,5.3,5])\n",
    "print(a2)\n",
    "print(a2.dtype)"
   ]
  },
  {
   "cell_type": "code",
   "execution_count": 17,
   "id": "3cf236b4",
   "metadata": {},
   "outputs": [
    {
     "name": "stdout",
     "output_type": "stream",
     "text": [
      "a [1. 2. 3.]\n",
      "b [2. 2. 2.]\n",
      "[2. 4. 6.]\n"
     ]
    }
   ],
   "source": [
    "a = np.array([1.0,2.0,3.0])\n",
    "b = np.array([2.0,2.0,2.0])\n",
    "\n",
    "print('a',a)\n",
    "print('b',b)\n",
    "\n",
    "m1 = ( a * b )\n",
    "print(m1)"
   ]
  },
  {
   "cell_type": "code",
   "execution_count": 35,
   "id": "95ac6648",
   "metadata": {},
   "outputs": [
    {
     "name": "stdout",
     "output_type": "stream",
     "text": [
      "a [1 2 3 4 5 6]\n",
      "b 2\n",
      "a*b =  [ 2  4  6  8 10 12]\n"
     ]
    }
   ],
   "source": [
    "a = np.array([1,2,3,4,5,6])\n",
    "b = np.array(2) #--> all element of a is multiplyed by 2``\n",
    "\n",
    "\n",
    "print('a',a)\n",
    "print('b',b)\n",
    "\n",
    "m1 = ( a * b )\n",
    "print('a*b = ', m1)"
   ]
  },
  {
   "cell_type": "markdown",
   "id": "760e3e1e",
   "metadata": {},
   "source": [
    "### Broadcasting rules \n",
    "A) they are equel , or     \n",
    "B) one of them is 1\n",
    "    "
   ]
  },
  {
   "cell_type": "code",
   "execution_count": 36,
   "id": "e39b1278",
   "metadata": {},
   "outputs": [
    {
     "name": "stdout",
     "output_type": "stream",
     "text": [
      "a =  [[1 3 5]\n",
      " [2 4 6]] dim 2\n",
      "b =  5 dim 0\n",
      "a*b \n",
      "[[ 5 15 25]\n",
      " [10 20 30]]\n"
     ]
    }
   ],
   "source": [
    "a = np.array([[1,3,5],[2,4,6]])\n",
    "b = np.array(5) # --> all element of a is multiple by b\n",
    "\n",
    "\n",
    "print(\"a = \", a, 'dim',a.ndim)\n",
    "print(\"b = \", b, 'dim',b.ndim)\n",
    "\n",
    "print(\"a*b \")\n",
    "print(a*b)"
   ]
  },
  {
   "cell_type": "code",
   "execution_count": 31,
   "id": "b506e4b1",
   "metadata": {},
   "outputs": [
    {
     "name": "stdout",
     "output_type": "stream",
     "text": [
      "a [[1 3 4]\n",
      " [5 6 7]] dim 2\n",
      "b [-1  2  3] dim 1\n",
      "a*b [[-1  6 12]\n",
      " [-5 12 21]]\n"
     ]
    }
   ],
   "source": [
    "a = np.array ([[1,3,4],[5,6,7]])\n",
    "b = np.array([-1,2,3])\n",
    "\n",
    "print('a' , a , 'dim', a.ndim)\n",
    "print('b' , b , 'dim', b.ndim)\n",
    "\n",
    "print('a*b', a*b)"
   ]
  },
  {
   "cell_type": "code",
   "execution_count": 34,
   "id": "4f2fdb8a",
   "metadata": {},
   "outputs": [
    {
     "name": "stdout",
     "output_type": "stream",
     "text": [
      "a [[1 2 3]\n",
      " [4 5 6]] shape (2, 3) dim 2\n",
      "b [[ 2 -3  4]\n",
      " [ 4 -5  6]] shape (2, 3) dim 2\n",
      "a*b [[  2  -6  12]\n",
      " [ 16 -25  36]]\n"
     ]
    }
   ],
   "source": [
    "a = np.array([[1,2,3],[4,5,6]])\n",
    "b = np.array([[2,-3,4],[4,-5,6]])  #[1,2,3] is multiple by [2,-3,4] and a [4,5,6] is multiple by [4,-5,6]....\n",
    "\n",
    "print(\"a\", a , \"shape\", a.shape ,\"dim\", a.ndim)\n",
    "print(\"b\", b , \"shape\", b.shape ,\"dim\", b.ndim)\n",
    "\n",
    "print(\"a*b\", a*b)"
   ]
  },
  {
   "cell_type": "code",
   "execution_count": null,
   "id": "836d60c3",
   "metadata": {},
   "outputs": [],
   "source": []
  },
  {
   "cell_type": "markdown",
   "id": "6ee89b26",
   "metadata": {},
   "source": [
    "### np.linspace()"
   ]
  },
  {
   "cell_type": "code",
   "execution_count": 43,
   "id": "19466562",
   "metadata": {},
   "outputs": [
    {
     "name": "stdout",
     "output_type": "stream",
     "text": [
      "[ 2.  4.  6.  8. 10.]\n"
     ]
    }
   ],
   "source": [
    "s1 = np.linspace(2,10,5) #start = 2, end = 10, part  = 5\n",
    "print(s1)"
   ]
  },
  {
   "cell_type": "code",
   "execution_count": 44,
   "id": "4f936de8",
   "metadata": {},
   "outputs": [
    {
     "name": "stdout",
     "output_type": "stream",
     "text": [
      "[ 2.          3.14285714  4.28571429  5.42857143  6.57142857  7.71428571\n",
      "  8.85714286 10.        ]\n"
     ]
    }
   ],
   "source": [
    "s2 = np.linspace(2,10,8)\n",
    "print(s2)"
   ]
  },
  {
   "cell_type": "code",
   "execution_count": 42,
   "id": "b6fbc90f",
   "metadata": {},
   "outputs": [
    {
     "name": "stdout",
     "output_type": "stream",
     "text": [
      "[ 2  4  7  9 12 14 17 20]\n"
     ]
    }
   ],
   "source": [
    "s3 = np.linspace(2,20,8,dtype = \"int\")\n",
    "print(s3)"
   ]
  },
  {
   "cell_type": "code",
   "execution_count": 45,
   "id": "e777a5a3",
   "metadata": {},
   "outputs": [
    {
     "name": "stdout",
     "output_type": "stream",
     "text": [
      "[ 2.          2.36734694  2.73469388  3.10204082  3.46938776  3.83673469\n",
      "  4.20408163  4.57142857  4.93877551  5.30612245  5.67346939  6.04081633\n",
      "  6.40816327  6.7755102   7.14285714  7.51020408  7.87755102  8.24489796\n",
      "  8.6122449   8.97959184  9.34693878  9.71428571 10.08163265 10.44897959\n",
      " 10.81632653 11.18367347 11.55102041 11.91836735 12.28571429 12.65306122\n",
      " 13.02040816 13.3877551  13.75510204 14.12244898 14.48979592 14.85714286\n",
      " 15.2244898  15.59183673 15.95918367 16.32653061 16.69387755 17.06122449\n",
      " 17.42857143 17.79591837 18.16326531 18.53061224 18.89795918 19.26530612\n",
      " 19.63265306 20.        ]\n",
      "float64\n",
      "50\n"
     ]
    }
   ],
   "source": [
    "z1 = np.linspace(2,20)  #start = 2, end = 20 , num = 50 -->i.. think is defult )\n",
    "print(z1)\n",
    "print(z1.dtype)\n",
    "print(len(z1))"
   ]
  },
  {
   "cell_type": "code",
   "execution_count": 50,
   "id": "e8fa5e67",
   "metadata": {},
   "outputs": [
    {
     "name": "stdout",
     "output_type": "stream",
     "text": [
      "(array([ 2.,  5.,  8., 11., 14., 17., 20.]), 3.0)\n"
     ]
    }
   ],
   "source": [
    "j1 = np.linspace(2,20,7, retstep = True)\n",
    "print(j1)"
   ]
  },
  {
   "cell_type": "markdown",
   "id": "4a02a1f3",
   "metadata": {},
   "source": [
    "### Copy() and View()"
   ]
  },
  {
   "cell_type": "code",
   "execution_count": 53,
   "id": "9c086d21",
   "metadata": {},
   "outputs": [
    {
     "name": "stdout",
     "output_type": "stream",
     "text": [
      "[5 6 7 8 9 0]\n",
      "[5 6 7 8 9 0]\n",
      "[50  6  7  8  9  0]\n",
      "[5 6 7 8 9 0]\n"
     ]
    }
   ],
   "source": [
    "a = np.array([5,6,7,8,9,0])\n",
    "print(a)\n",
    "\n",
    "b = a.copy()\n",
    "print(b)\n",
    "\n",
    "a[0] = 50\n",
    "print(a)\n",
    "print(b)"
   ]
  },
  {
   "cell_type": "code",
   "execution_count": 54,
   "id": "9f2a896f",
   "metadata": {},
   "outputs": [
    {
     "name": "stdout",
     "output_type": "stream",
     "text": [
      "[1 2 3 4 5]\n",
      "[1 2 3 4 5]\n",
      "[6 2 3 4 5] [6 2 3 4 5]\n"
     ]
    }
   ],
   "source": [
    "c = np.array([1,2,3,4,5])\n",
    "print(c)\n",
    "\n",
    "d = c.view()\n",
    "\n",
    "print(d)\n",
    "\n",
    "c[0] = 6\n",
    "print(c,d)"
   ]
  },
  {
   "cell_type": "markdown",
   "id": "44ce23f2",
   "metadata": {},
   "source": [
    "###  Numpy random number"
   ]
  },
  {
   "cell_type": "markdown",
   "id": "40c04bcf",
   "metadata": {},
   "source": [
    "###  (01) np.random.random"
   ]
  },
  {
   "cell_type": "code",
   "execution_count": 56,
   "id": "2997ac74",
   "metadata": {},
   "outputs": [
    {
     "name": "stdout",
     "output_type": "stream",
     "text": [
      "[0.36433782 0.24410027 0.06282923 0.0344199  0.47726659]\n"
     ]
    }
   ],
   "source": [
    "a = np.random.random(5)\n",
    "print(a)"
   ]
  },
  {
   "cell_type": "code",
   "execution_count": 67,
   "id": "507d00d0",
   "metadata": {},
   "outputs": [
    {
     "name": "stdout",
     "output_type": "stream",
     "text": [
      "[[0.6100578  0.66469411 0.21466245 0.55557727]\n",
      " [0.59732541 0.82354404 0.63445611 0.5069408 ]\n",
      " [0.66610444 0.20852077 0.73371867 0.31288131]]\n"
     ]
    }
   ],
   "source": [
    "import numpy as np\n",
    "b1 = np.random.random((3,4))\n",
    "\n",
    "print(b1)"
   ]
  },
  {
   "cell_type": "markdown",
   "id": "313cbdf3",
   "metadata": {},
   "source": [
    "###  (02)np.random.randint ( low, high, size )"
   ]
  },
  {
   "cell_type": "code",
   "execution_count": 72,
   "id": "eef8dc2e",
   "metadata": {},
   "outputs": [
    {
     "name": "stdout",
     "output_type": "stream",
     "text": [
      "[ 7 17 10]\n"
     ]
    }
   ],
   "source": [
    "a = np.random.randint(2,20,3)\n",
    "print(a)"
   ]
  },
  {
   "cell_type": "code",
   "execution_count": 78,
   "id": "79acc564",
   "metadata": {},
   "outputs": [
    {
     "name": "stdout",
     "output_type": "stream",
     "text": [
      "[[25 13 44 14 38 25 25 38]\n",
      " [27 41 34 28 29 20 17 14]]\n"
     ]
    }
   ],
   "source": [
    "a2 = np.random.randint(10,50,(2,8))\n",
    "print(a2)\n",
    "\n",
    "## what i m trying to ::?\n",
    "## return a np array of shape (3,4) with random element which a range to 10 to 50"
   ]
  },
  {
   "cell_type": "markdown",
   "id": "1e4da86e",
   "metadata": {},
   "source": [
    "### (03) np.random.rand\n",
    "it is similier of the np.random.randint..\n",
    "\n",
    "it is a generate a value between a 0 to 1 in the given shape"
   ]
  },
  {
   "cell_type": "code",
   "execution_count": 80,
   "id": "5dd961ed",
   "metadata": {},
   "outputs": [
    {
     "name": "stdout",
     "output_type": "stream",
     "text": [
      "[0.10915224 0.26346816 0.05184473]\n"
     ]
    }
   ],
   "source": [
    " a = np.random.rand(3)\n",
    "print(a)"
   ]
  },
  {
   "cell_type": "code",
   "execution_count": 81,
   "id": "8ad3af03",
   "metadata": {},
   "outputs": [
    {
     "name": "stdout",
     "output_type": "stream",
     "text": [
      "[[0.76930596 0.69525813 0.96433949 0.78980162]\n",
      " [0.24857056 0.02296372 0.28829918 0.02241595]\n",
      " [0.28195343 0.07326943 0.45262958 0.94294363]]\n"
     ]
    }
   ],
   "source": [
    "b = np.random.rand(3,4)\n",
    "print(b)"
   ]
  },
  {
   "cell_type": "markdown",
   "id": "7b243022",
   "metadata": {},
   "source": [
    "###  (04) np.random.choice"
   ]
  },
  {
   "cell_type": "code",
   "execution_count": 89,
   "id": "4eaee9f2",
   "metadata": {},
   "outputs": [
    {
     "name": "stdout",
     "output_type": "stream",
     "text": [
      "[1 5 5 4]\n"
     ]
    }
   ],
   "source": [
    "a = np.random.choice([1,2,3,4,5,6],size = 4)\n",
    "print(a)"
   ]
  },
  {
   "cell_type": "code",
   "execution_count": 94,
   "id": "4dc5728c",
   "metadata": {},
   "outputs": [
    {
     "name": "stdout",
     "output_type": "stream",
     "text": [
      "[ 2  3  4  5  6  7  8  9 10 11 12 13 14 15 16 17 18 19 20 21 22 23 24 25\n",
      " 26 27 28 29 30 31 32 33 34 35 36 37 38 39 40 41 42 43 44 45 46 47 48 49\n",
      " 50 51 52 53 54 55 56 57 58 59 60 61 62 63 64 65 66 67 68 69 70 71 72 73\n",
      " 74 75 76 77 78 79 80 81 82 83 84 85 86 87 88 89 90 91 92 93 94 95 96 97\n",
      " 98 99]\n",
      "[10 46 71 48 75]\n"
     ]
    }
   ],
   "source": [
    "a = np.arange(2,100)\n",
    "print(a)\n",
    "b = np.random.choice(a,size = 5)\n",
    "print(b)"
   ]
  },
  {
   "cell_type": "code",
   "execution_count": null,
   "id": "0d54ca18",
   "metadata": {},
   "outputs": [],
   "source": []
  },
  {
   "cell_type": "code",
   "execution_count": null,
   "id": "a83e98c0",
   "metadata": {},
   "outputs": [],
   "source": []
  }
 ],
 "metadata": {
  "kernelspec": {
   "display_name": "Python 3 (ipykernel)",
   "language": "python",
   "name": "python3"
  },
  "language_info": {
   "codemirror_mode": {
    "name": "ipython",
    "version": 3
   },
   "file_extension": ".py",
   "mimetype": "text/x-python",
   "name": "python",
   "nbconvert_exporter": "python",
   "pygments_lexer": "ipython3",
   "version": "3.10.9"
  }
 },
 "nbformat": 4,
 "nbformat_minor": 5
}
