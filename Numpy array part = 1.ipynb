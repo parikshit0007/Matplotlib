{
 "cells": [
  {
   "cell_type": "code",
   "execution_count": null,
   "id": "de9fd214",
   "metadata": {},
   "outputs": [],
   "source": [
    "\n"
   ]
  },
  {
   "cell_type": "code",
   "execution_count": 1,
   "id": "36540ac8",
   "metadata": {},
   "outputs": [
    {
     "name": "stdout",
     "output_type": "stream",
     "text": [
      "[ 5  7  8  3 17]\n",
      "<class 'numpy.ndarray'>\n"
     ]
    }
   ],
   "source": [
    "import numpy as np\n",
    "\n",
    "# EXAMPLE : 1 \n",
    "# Crwating a np.array using a liss\n",
    "\n",
    "n1 = np.array([5,7,8,3,17])\n",
    "print(n1)\n",
    "print(type(n1))"
   ]
  },
  {
   "cell_type": "code",
   "execution_count": 86,
   "id": "5dde397b",
   "metadata": {},
   "outputs": [
    {
     "name": "stdout",
     "output_type": "stream",
     "text": [
      "[10 20 30 40]\n",
      "<class 'numpy.ndarray'>\n",
      "[10  2  0  5]\n",
      "<class 'numpy.ndarray'>\n"
     ]
    }
   ],
   "source": [
    "# Creating a numpy arrays using list and tuples\n",
    "\n",
    "n1 = [10,20,30,40]\n",
    "n2 = (10,2,0,5)\n",
    "\n",
    "w1 = np.array(n1)\n",
    "w2 = np.array(n2)\n",
    "\n",
    "print(w1)\n",
    "print(type(w1))\n",
    "print(w2)\n",
    "print(type(w2))"
   ]
  },
  {
   "cell_type": "code",
   "execution_count": null,
   "id": "23c203d1",
   "metadata": {},
   "outputs": [],
   "source": [
    " "
   ]
  },
  {
   "cell_type": "markdown",
   "id": "a9a016c3",
   "metadata": {},
   "source": [
    "###  there are four properties of numpy arrays"
   ]
  },
  {
   "cell_type": "code",
   "execution_count": 87,
   "id": "aaedc751",
   "metadata": {},
   "outputs": [
    {
     "name": "stdout",
     "output_type": "stream",
     "text": [
      "7\n",
      "int32\n",
      "1\n",
      "()\n",
      "0\n"
     ]
    }
   ],
   "source": [
    "s0 =np.array(7)\n",
    "print(s0)\n",
    "print(s0.dtype) # datatype  = int 32\n",
    "print(s0.size) # size = no.of element = 1\n",
    "print(s0.shape) # shape = ()\n",
    "print(s0.ndim) # ndim =0"
   ]
  },
  {
   "cell_type": "code",
   "execution_count": 88,
   "id": "58156ed0",
   "metadata": {},
   "outputs": [
    {
     "name": "stdout",
     "output_type": "stream",
     "text": [
      "[7]\n",
      "int32\n",
      "1\n",
      "(1,)\n",
      "1\n"
     ]
    }
   ],
   "source": [
    "s0 =np.array([7])\n",
    "print(s0)\n",
    "print(s0.dtype) # datatype  = int 32\n",
    "print(s0.size) # size = no.of element = 1\n",
    "print(s0.shape) # shape = ()\n",
    "print(s0.ndim) # ndim =0"
   ]
  },
  {
   "cell_type": "code",
   "execution_count": 89,
   "id": "a641a31d",
   "metadata": {},
   "outputs": [
    {
     "name": "stdout",
     "output_type": "stream",
     "text": [
      "[ 7  4  7  2  4  7  2 48]\n",
      "int32\n",
      "8\n",
      "(8,)\n",
      "1\n"
     ]
    }
   ],
   "source": [
    "s0 =np.array([7,4,7,2,4,7,2,48])\n",
    "print(s0)\n",
    "print(s0.dtype) # datatype  = int 32\n",
    "print(s0.size) # size = no.of element = 8\n",
    "print(s0.shape) # shape = ()\n",
    "print(s0.ndim) # ndim =0"
   ]
  },
  {
   "cell_type": "code",
   "execution_count": null,
   "id": "caa9a121",
   "metadata": {},
   "outputs": [],
   "source": []
  },
  {
   "cell_type": "code",
   "execution_count": 15,
   "id": "aa75f3c5",
   "metadata": {},
   "outputs": [
    {
     "name": "stdout",
     "output_type": "stream",
     "text": [
      "[[12, 43, 54, 32], [32, 45, 34, 65]]\n",
      "<class 'list'>\n"
     ]
    }
   ],
   "source": [
    "parikshit = [[12,43,54,32],[32,45,34,65]]\n",
    "print(parikshit)\n",
    "print(type(parikshit))"
   ]
  },
  {
   "cell_type": "code",
   "execution_count": 16,
   "id": "4ed6b0a3",
   "metadata": {},
   "outputs": [
    {
     "name": "stdout",
     "output_type": "stream",
     "text": [
      "[[12 43 54 32]\n",
      " [32 45 34 65]]\n",
      "int32\n",
      "8\n",
      "(2, 4)\n",
      "2\n"
     ]
    }
   ],
   "source": [
    "a1 = np.array(parikshit)\n",
    "print(a1)\n",
    "print(a1.dtype) #datatype = int32\n",
    "print(a1.size) #size = 8\n",
    "print(a1.shape) #shape = 2 raw and 3 coloume\n",
    "print(a1.ndim) # only 2 entitys"
   ]
  },
  {
   "cell_type": "code",
   "execution_count": 21,
   "id": "af727eae",
   "metadata": {},
   "outputs": [
    {
     "name": "stdout",
     "output_type": "stream",
     "text": [
      "[[[34 65 23 87]\n",
      "  [65 87 96 90]]\n",
      "\n",
      " [[64 67 23 34]\n",
      "  [87 23 67 23]]]\n",
      "int32\n",
      "16\n",
      "(2, 2, 4)\n",
      "3\n"
     ]
    }
   ],
   "source": [
    "a2 = np.array([[[34,65,23,87],[65,87,96,90]],[[64,67,23,34],[87,23,67,23]]])\n",
    "print(a2)\n",
    "print(a2.dtype) #datatype = int32\n",
    "print(a2.size) #size = 16\n",
    "print(a2.shape) #shape = (2,2,4) (3rd dimetional, raws ,coloums)\n",
    "print(a2.ndim) #  shape me hame 3 dimational mil rahe he so n-dimational could be = 3\""
   ]
  },
  {
   "cell_type": "markdown",
   "id": "4df97096",
   "metadata": {},
   "source": [
    "\n",
    "### (2).np.arrange ()"
   ]
  },
  {
   "cell_type": "code",
   "execution_count": 92,
   "id": "cd20271d",
   "metadata": {},
   "outputs": [
    {
     "name": "stdout",
     "output_type": "stream",
     "text": [
      "[10 11 12 13 14 15 16 17 18 19]\n",
      "int32\n",
      "10\n",
      "(10,)\n",
      "1\n"
     ]
    }
   ],
   "source": [
    "w1 = np.arange(10,20)# start = 10 , end = 20\n",
    "print(w1)\n",
    "print(w1.dtype)\n",
    "print(w1.size)\n",
    "print(w1.shape)\n",
    "print(w1.ndim)"
   ]
  },
  {
   "cell_type": "code",
   "execution_count": 35,
   "id": "1f9631ef",
   "metadata": {},
   "outputs": [
    {
     "name": "stdout",
     "output_type": "stream",
     "text": [
      "[ 5  9 13 17 21]\n",
      "[30 25 20 15]\n"
     ]
    }
   ],
   "source": [
    "w2 = np.arange(5,25,4) #start = 5 , end = 25, step = 4\n",
    "print(w2)\n",
    "w3 = np.arange(30,10,-5) #start = 30, end = 10 , step = -5\n",
    "print(w3)"
   ]
  },
  {
   "cell_type": "markdown",
   "id": "35e91e9a",
   "metadata": {},
   "source": [
    "### (3).np.zeros() generates array of zero "
   ]
  },
  {
   "cell_type": "code",
   "execution_count": 41,
   "id": "32bbd574",
   "metadata": {},
   "outputs": [
    {
     "name": "stdout",
     "output_type": "stream",
     "text": [
      "[[0. 0. 0. 0.]\n",
      " [0. 0. 0. 0.]\n",
      " [0. 0. 0. 0.]]\n",
      "float64\n",
      "12\n",
      "(3, 4)\n",
      "2\n"
     ]
    }
   ],
   "source": [
    "d1 = np.zeros ((3,4))  # 3 = raws , 4 = coloum\n",
    "\n",
    "print(d1)\n",
    "# print(type(d1))\n",
    "print(d1.dtype)\n",
    "print(d1.size)\n",
    "print(d1.shape)\n",
    "print(d1.ndim)"
   ]
  },
  {
   "cell_type": "code",
   "execution_count": 43,
   "id": "e93c4a52",
   "metadata": {},
   "outputs": [
    {
     "name": "stdout",
     "output_type": "stream",
     "text": [
      "[[0 0]\n",
      " [0 0]\n",
      " [0 0]\n",
      " [0 0]]\n",
      "int32\n",
      "8\n",
      "(4, 2)\n",
      "2\n"
     ]
    }
   ],
   "source": [
    "d2 = np.zeros([4,2], dtype= 'int')\n",
    "print(d2)\n",
    "print(d2.dtype)\n",
    "print(d2.size)\n",
    "print(d2.shape)\n",
    "print(d2.ndim)"
   ]
  },
  {
   "cell_type": "code",
   "execution_count": 47,
   "id": "36031558",
   "metadata": {},
   "outputs": [
    {
     "name": "stdout",
     "output_type": "stream",
     "text": [
      "[0 0 0 0 0 0 0]\n",
      "int32\n",
      "7\n",
      "(7,)\n",
      "1\n"
     ]
    }
   ],
   "source": [
    "d3 = np.zeros((7),dtype='int')\n",
    "print(d3)\n",
    "print(d3.dtype)\n",
    "print(d3.size)\n",
    "print(d3.shape)\n",
    "print(d3.ndim)"
   ]
  },
  {
   "cell_type": "markdown",
   "id": "721b9c7c",
   "metadata": {},
   "source": [
    "###  (04).np.ones()"
   ]
  },
  {
   "cell_type": "code",
   "execution_count": 49,
   "id": "8f40d340",
   "metadata": {},
   "outputs": [
    {
     "name": "stdout",
     "output_type": "stream",
     "text": [
      "[[1 1 1]\n",
      " [1 1 1]\n",
      " [1 1 1]\n",
      " [1 1 1]]\n"
     ]
    }
   ],
   "source": [
    "n1 = np.ones((4,3), dtype = 'int') #rows = 4 , coloum = 3\n",
    "print(n1)"
   ]
  },
  {
   "cell_type": "code",
   "execution_count": 53,
   "id": "58195dac",
   "metadata": {},
   "outputs": [
    {
     "name": "stdout",
     "output_type": "stream",
     "text": [
      "[[1. 1. 1. 1. 1. 1.]\n",
      " [1. 1. 1. 1. 1. 1.]\n",
      " [1. 1. 1. 1. 1. 1.]\n",
      " [1. 1. 1. 1. 1. 1.]\n",
      " [1. 1. 1. 1. 1. 1.]]\n"
     ]
    }
   ],
   "source": [
    "n2 = np.ones((5,6))\n",
    "print(n2)"
   ]
  },
  {
   "cell_type": "code",
   "execution_count": null,
   "id": "a8eb5f31",
   "metadata": {},
   "outputs": [],
   "source": []
  },
  {
   "cell_type": "markdown",
   "id": "baf5d70e",
   "metadata": {},
   "source": [
    "###  Reshape() and shape properly\n",
    "Array can be reshaped into its product of its factors"
   ]
  },
  {
   "cell_type": "code",
   "execution_count": 58,
   "id": "b914d485",
   "metadata": {},
   "outputs": [
    {
     "name": "stdout",
     "output_type": "stream",
     "text": [
      "[ 3  4  5  6  7  8  9 10 11 12 13 14]\n",
      "int32\n",
      "12\n",
      "(12,)\n",
      "1\n"
     ]
    }
   ],
   "source": [
    "b1 = np.array([3,4,5,6,7,8,9,10,11,12,13,14])\n",
    "print(b1)\n",
    "print(b1.dtype)\n",
    "print(b1.size)\n",
    "print(b1.shape)\n",
    "print(b1.ndim)\n",
    "\n",
    "# factors of 12 = 1,2,3,4,6,12 --> factor means ketala sathe bhagi sakay....\n",
    "#  to have aa 1 dimational array ne 2 dimational array ma fervava mate aene kai kai rite dimational kari sakay teni pair...\n",
    "# pairs  = (3,4), (4,3) , (2,6) , (6,2) , (1,12) , (12,1)"
   ]
  },
  {
   "cell_type": "markdown",
   "id": "c3bb2b11",
   "metadata": {},
   "source": [
    "###  the array change when is reshape on the time of creation array ...the array was actuall change....\n",
    "array create karti vakhte array ma reshape aapiye to array ae reshape na change ma aavi jay che ..."
   ]
  },
  {
   "cell_type": "code",
   "execution_count": 65,
   "id": "d8b7ac57",
   "metadata": {},
   "outputs": [
    {
     "name": "stdout",
     "output_type": "stream",
     "text": [
      "[[ 3  4  5  6]\n",
      " [ 7  8  9 10]\n",
      " [11 12 13 14]]\n",
      "(3, 4)\n",
      "2\n"
     ]
    }
   ],
   "source": [
    "b2 = np.array ([3,4,5,6,7,8,9,10,11,12,13,14]).reshape(3,4) # raws = 2 and coloum =4\n",
    "\n",
    "print(b2)\n",
    "print(b2.shape)\n",
    "print(b2.ndim)"
   ]
  },
  {
   "cell_type": "code",
   "execution_count": 68,
   "id": "8380159d",
   "metadata": {},
   "outputs": [
    {
     "name": "stdout",
     "output_type": "stream",
     "text": [
      "[[ 3  4]\n",
      " [ 5  6]\n",
      " [ 7  8]\n",
      " [ 9 10]\n",
      " [11 12]\n",
      " [13 14]]\n"
     ]
    }
   ],
   "source": [
    "print(b2.reshape(6,2))"
   ]
  },
  {
   "cell_type": "code",
   "execution_count": 67,
   "id": "728ada62",
   "metadata": {},
   "outputs": [
    {
     "name": "stdout",
     "output_type": "stream",
     "text": [
      "(3, 4)\n"
     ]
    }
   ],
   "source": [
    "print(b2.shape)"
   ]
  },
  {
   "cell_type": "code",
   "execution_count": 76,
   "id": "6537da5c",
   "metadata": {},
   "outputs": [
    {
     "name": "stdout",
     "output_type": "stream",
     "text": [
      "[[ 1  2  3  4  5  6  7  8  9]\n",
      " [10 11 12 13 14 15 16 17 18]]\n"
     ]
    }
   ],
   "source": [
    "b4 = np.arange(1,19).reshape(2,9) # rows = 2, cols =9\n",
    "print(b4)"
   ]
  },
  {
   "cell_type": "code",
   "execution_count": 75,
   "id": "ab84192e",
   "metadata": {},
   "outputs": [
    {
     "data": {
      "text/plain": [
       "array([[[ 1,  2,  3],\n",
       "        [ 4,  5,  6],\n",
       "        [ 7,  8,  9]],\n",
       "\n",
       "       [[10, 11, 12],\n",
       "        [13, 14, 15],\n",
       "        [16, 17, 18]]])"
      ]
     },
     "execution_count": 75,
     "metadata": {},
     "output_type": "execute_result"
    }
   ],
   "source": [
    "b4.reshape(2,3,3)\n",
    "  # 2 = 2 parts (3rd dimational) , no of rows = 3, cols = 3"
   ]
  },
  {
   "cell_type": "code",
   "execution_count": 81,
   "id": "1d80593d",
   "metadata": {},
   "outputs": [
    {
     "name": "stdout",
     "output_type": "stream",
     "text": [
      "[[ 1  2]\n",
      " [ 3  4]\n",
      " [ 5  6]\n",
      " [ 7  8]\n",
      " [ 9 10]\n",
      " [11 12]\n",
      " [13 14]\n",
      " [15 16]\n",
      " [17 18]]\n",
      "(9, 2) 2\n",
      "(2, 9) 2\n"
     ]
    }
   ],
   "source": [
    "h1 = b4.reshape(9,2)\n",
    "print(h1)\n",
    "print(h1.shape, h1.ndim)\n",
    "print(b4.shape, b4.ndim)"
   ]
  },
  {
   "cell_type": "markdown",
   "id": "7a32b052",
   "metadata": {},
   "source": [
    "### Reshape an  array after that creation ...how can be that done???"
   ]
  },
  {
   "cell_type": "code",
   "execution_count": 82,
   "id": "962b5bad",
   "metadata": {},
   "outputs": [
    {
     "name": "stdout",
     "output_type": "stream",
     "text": [
      "[[[ 1  2  3]\n",
      "  [ 4  5  6]]\n",
      "\n",
      " [[ 7  8  9]\n",
      "  [10 11 12]]\n",
      "\n",
      " [[13 14 15]\n",
      "  [16 17 18]]]\n",
      "(3, 2, 3)\n"
     ]
    }
   ],
   "source": [
    "b4.shape = (3,2,3) # (3rd dimational(means 3 group ), 2 rows, 3 cols)\n",
    "print(b4)\n",
    "print(b4.shape)"
   ]
  },
  {
   "cell_type": "code",
   "execution_count": 85,
   "id": "efcd30b9",
   "metadata": {},
   "outputs": [
    {
     "name": "stdout",
     "output_type": "stream",
     "text": [
      "[[[ 2]\n",
      "  [ 3]\n",
      "  [ 4]\n",
      "  [ 5]]\n",
      "\n",
      " [[ 6]\n",
      "  [ 7]\n",
      "  [ 8]\n",
      "  [ 9]]\n",
      "\n",
      " [[10]\n",
      "  [11]\n",
      "  [12]\n",
      "  [13]]]\n",
      "(3, 4, 1)\n"
     ]
    }
   ],
   "source": [
    "g1 = np.arange(2,14).reshape(3,4,1)\n",
    "print(g1)\n",
    "print(g1.shape)"
   ]
  },
  {
   "cell_type": "code",
   "execution_count": null,
   "id": "c6224550",
   "metadata": {},
   "outputs": [],
   "source": []
  }
 ],
 "metadata": {
  "kernelspec": {
   "display_name": "Python 3 (ipykernel)",
   "language": "python",
   "name": "python3"
  },
  "language_info": {
   "codemirror_mode": {
    "name": "ipython",
    "version": 3
   },
   "file_extension": ".py",
   "mimetype": "text/x-python",
   "name": "python",
   "nbconvert_exporter": "python",
   "pygments_lexer": "ipython3",
   "version": "3.10.9"
  }
 },
 "nbformat": 4,
 "nbformat_minor": 5
}
